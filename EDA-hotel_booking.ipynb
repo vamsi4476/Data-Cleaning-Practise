{
 "cells": [
  {
   "cell_type": "markdown",
   "metadata": {},
   "source": [
    "<h1>EDA for Hotels Data"
   ]
  },
  {
   "cell_type": "code",
   "execution_count": 61,
   "metadata": {},
   "outputs": [],
   "source": [
    "import warnings\n",
    "warnings.filterwarnings(\"ignore\")\n",
    "\n",
    "import numpy as np\n",
    "import pandas as pd\n",
    "import matplotlib.pyplot as plt\n",
    "import seaborn as sns\n",
    "\n",
    "\n"
   ]
  },
  {
   "cell_type": "code",
   "execution_count": 62,
   "metadata": {},
   "outputs": [],
   "source": [
    "hotels_data_v2=pd.read_csv(\"cleaned_hotel_booking.csv\")"
   ]
  },
  {
   "cell_type": "code",
   "execution_count": 63,
   "metadata": {},
   "outputs": [
    {
     "data": {
      "text/plain": [
       "(119366, 30)"
      ]
     },
     "execution_count": 63,
     "metadata": {},
     "output_type": "execute_result"
    }
   ],
   "source": [
    "hotels_data_v2.shape"
   ]
  },
  {
   "cell_type": "code",
   "execution_count": 64,
   "metadata": {},
   "outputs": [
    {
     "name": "stdout",
     "output_type": "stream",
     "text": [
      "<class 'pandas.core.frame.DataFrame'>\n",
      "RangeIndex: 119366 entries, 0 to 119365\n",
      "Data columns (total 30 columns):\n",
      " #   Column                          Non-Null Count   Dtype  \n",
      "---  ------                          --------------   -----  \n",
      " 0   Unnamed: 0                      119366 non-null  int64  \n",
      " 1   hotel                           119366 non-null  object \n",
      " 2   is_canceled                     119366 non-null  int64  \n",
      " 3   lead_time                       119366 non-null  int64  \n",
      " 4   arrival_date_week_number        119366 non-null  int64  \n",
      " 5   stays_in_weekend_nights         119366 non-null  int64  \n",
      " 6   stays_in_week_nights            119366 non-null  int64  \n",
      " 7   adults                          119366 non-null  int64  \n",
      " 8   children                        119366 non-null  float64\n",
      " 9   babies                          119366 non-null  int64  \n",
      " 10  meal                            119366 non-null  object \n",
      " 11  country                         119366 non-null  object \n",
      " 12  market_segment                  119366 non-null  object \n",
      " 13  distribution_channel            119366 non-null  object \n",
      " 14  is_repeated_guest               119366 non-null  int64  \n",
      " 15  previous_cancellations          119366 non-null  int64  \n",
      " 16  previous_bookings_not_canceled  119366 non-null  int64  \n",
      " 17  reserved_room_type              119366 non-null  object \n",
      " 18  assigned_room_type              119366 non-null  object \n",
      " 19  booking_changes                 119366 non-null  int64  \n",
      " 20  deposit_type                    119366 non-null  object \n",
      " 21  agent                           119366 non-null  float64\n",
      " 22  days_in_waiting_list            119366 non-null  int64  \n",
      " 23  customer_type                   119366 non-null  object \n",
      " 24  adr                             119366 non-null  float64\n",
      " 25  required_car_parking_spaces     119366 non-null  int64  \n",
      " 26  total_of_special_requests       119366 non-null  int64  \n",
      " 27  reservation_status              119366 non-null  object \n",
      " 28  reservation_status_date         119366 non-null  object \n",
      " 29  Date                            119366 non-null  object \n",
      "dtypes: float64(3), int64(15), object(12)\n",
      "memory usage: 27.3+ MB\n"
     ]
    }
   ],
   "source": [
    "hotels_data_v2.info()"
   ]
  },
  {
   "cell_type": "code",
   "execution_count": 65,
   "metadata": {},
   "outputs": [],
   "source": [
    "pd.set_option('display.max_rows',None)\n",
    "pd.set_option('display.max_columns',None)"
   ]
  },
  {
   "cell_type": "code",
   "execution_count": 66,
   "metadata": {},
   "outputs": [
    {
     "data": {
      "text/html": [
       "<div>\n",
       "<style scoped>\n",
       "    .dataframe tbody tr th:only-of-type {\n",
       "        vertical-align: middle;\n",
       "    }\n",
       "\n",
       "    .dataframe tbody tr th {\n",
       "        vertical-align: top;\n",
       "    }\n",
       "\n",
       "    .dataframe thead th {\n",
       "        text-align: right;\n",
       "    }\n",
       "</style>\n",
       "<table border=\"1\" class=\"dataframe\">\n",
       "  <thead>\n",
       "    <tr style=\"text-align: right;\">\n",
       "      <th></th>\n",
       "      <th>Unnamed: 0</th>\n",
       "      <th>hotel</th>\n",
       "      <th>is_canceled</th>\n",
       "      <th>lead_time</th>\n",
       "      <th>arrival_date_week_number</th>\n",
       "      <th>stays_in_weekend_nights</th>\n",
       "      <th>stays_in_week_nights</th>\n",
       "      <th>adults</th>\n",
       "      <th>children</th>\n",
       "      <th>babies</th>\n",
       "      <th>meal</th>\n",
       "      <th>country</th>\n",
       "      <th>market_segment</th>\n",
       "      <th>distribution_channel</th>\n",
       "      <th>is_repeated_guest</th>\n",
       "      <th>previous_cancellations</th>\n",
       "      <th>previous_bookings_not_canceled</th>\n",
       "      <th>reserved_room_type</th>\n",
       "      <th>assigned_room_type</th>\n",
       "      <th>booking_changes</th>\n",
       "      <th>deposit_type</th>\n",
       "      <th>agent</th>\n",
       "      <th>days_in_waiting_list</th>\n",
       "      <th>customer_type</th>\n",
       "      <th>adr</th>\n",
       "      <th>required_car_parking_spaces</th>\n",
       "      <th>total_of_special_requests</th>\n",
       "      <th>reservation_status</th>\n",
       "      <th>reservation_status_date</th>\n",
       "      <th>Date</th>\n",
       "    </tr>\n",
       "  </thead>\n",
       "  <tbody>\n",
       "    <tr>\n",
       "      <th>0</th>\n",
       "      <td>40060</td>\n",
       "      <td>City Hotel</td>\n",
       "      <td>0</td>\n",
       "      <td>6</td>\n",
       "      <td>27</td>\n",
       "      <td>0</td>\n",
       "      <td>2</td>\n",
       "      <td>1</td>\n",
       "      <td>0.0</td>\n",
       "      <td>0</td>\n",
       "      <td>HB</td>\n",
       "      <td>PRT</td>\n",
       "      <td>Offline TA/TO</td>\n",
       "      <td>TA/TO</td>\n",
       "      <td>0</td>\n",
       "      <td>0</td>\n",
       "      <td>0</td>\n",
       "      <td>A</td>\n",
       "      <td>A</td>\n",
       "      <td>0</td>\n",
       "      <td>No Deposit</td>\n",
       "      <td>6.0</td>\n",
       "      <td>0</td>\n",
       "      <td>Transient</td>\n",
       "      <td>0.0</td>\n",
       "      <td>0</td>\n",
       "      <td>0</td>\n",
       "      <td>Check-Out</td>\n",
       "      <td>2015-07-03</td>\n",
       "      <td>2015-07-01</td>\n",
       "    </tr>\n",
       "    <tr>\n",
       "      <th>1</th>\n",
       "      <td>40061</td>\n",
       "      <td>City Hotel</td>\n",
       "      <td>1</td>\n",
       "      <td>88</td>\n",
       "      <td>27</td>\n",
       "      <td>0</td>\n",
       "      <td>4</td>\n",
       "      <td>2</td>\n",
       "      <td>0.0</td>\n",
       "      <td>0</td>\n",
       "      <td>BB</td>\n",
       "      <td>PRT</td>\n",
       "      <td>Online TA</td>\n",
       "      <td>TA/TO</td>\n",
       "      <td>0</td>\n",
       "      <td>0</td>\n",
       "      <td>0</td>\n",
       "      <td>A</td>\n",
       "      <td>A</td>\n",
       "      <td>0</td>\n",
       "      <td>No Deposit</td>\n",
       "      <td>9.0</td>\n",
       "      <td>0</td>\n",
       "      <td>Transient</td>\n",
       "      <td>76.5</td>\n",
       "      <td>0</td>\n",
       "      <td>1</td>\n",
       "      <td>Canceled</td>\n",
       "      <td>2015-07-01</td>\n",
       "      <td>2015-07-01</td>\n",
       "    </tr>\n",
       "    <tr>\n",
       "      <th>2</th>\n",
       "      <td>40062</td>\n",
       "      <td>City Hotel</td>\n",
       "      <td>1</td>\n",
       "      <td>65</td>\n",
       "      <td>27</td>\n",
       "      <td>0</td>\n",
       "      <td>4</td>\n",
       "      <td>1</td>\n",
       "      <td>0.0</td>\n",
       "      <td>0</td>\n",
       "      <td>BB</td>\n",
       "      <td>PRT</td>\n",
       "      <td>Online TA</td>\n",
       "      <td>TA/TO</td>\n",
       "      <td>0</td>\n",
       "      <td>0</td>\n",
       "      <td>0</td>\n",
       "      <td>A</td>\n",
       "      <td>A</td>\n",
       "      <td>0</td>\n",
       "      <td>No Deposit</td>\n",
       "      <td>9.0</td>\n",
       "      <td>0</td>\n",
       "      <td>Transient</td>\n",
       "      <td>68.0</td>\n",
       "      <td>0</td>\n",
       "      <td>1</td>\n",
       "      <td>Canceled</td>\n",
       "      <td>2015-04-30</td>\n",
       "      <td>2015-07-01</td>\n",
       "    </tr>\n",
       "    <tr>\n",
       "      <th>3</th>\n",
       "      <td>40063</td>\n",
       "      <td>City Hotel</td>\n",
       "      <td>1</td>\n",
       "      <td>92</td>\n",
       "      <td>27</td>\n",
       "      <td>2</td>\n",
       "      <td>4</td>\n",
       "      <td>2</td>\n",
       "      <td>0.0</td>\n",
       "      <td>0</td>\n",
       "      <td>BB</td>\n",
       "      <td>PRT</td>\n",
       "      <td>Online TA</td>\n",
       "      <td>TA/TO</td>\n",
       "      <td>0</td>\n",
       "      <td>0</td>\n",
       "      <td>0</td>\n",
       "      <td>A</td>\n",
       "      <td>A</td>\n",
       "      <td>0</td>\n",
       "      <td>No Deposit</td>\n",
       "      <td>9.0</td>\n",
       "      <td>0</td>\n",
       "      <td>Transient</td>\n",
       "      <td>76.5</td>\n",
       "      <td>0</td>\n",
       "      <td>2</td>\n",
       "      <td>Canceled</td>\n",
       "      <td>2015-06-23</td>\n",
       "      <td>2015-07-01</td>\n",
       "    </tr>\n",
       "    <tr>\n",
       "      <th>4</th>\n",
       "      <td>40064</td>\n",
       "      <td>City Hotel</td>\n",
       "      <td>1</td>\n",
       "      <td>100</td>\n",
       "      <td>27</td>\n",
       "      <td>0</td>\n",
       "      <td>2</td>\n",
       "      <td>2</td>\n",
       "      <td>0.0</td>\n",
       "      <td>0</td>\n",
       "      <td>BB</td>\n",
       "      <td>PRT</td>\n",
       "      <td>Online TA</td>\n",
       "      <td>TA/TO</td>\n",
       "      <td>0</td>\n",
       "      <td>0</td>\n",
       "      <td>0</td>\n",
       "      <td>A</td>\n",
       "      <td>A</td>\n",
       "      <td>0</td>\n",
       "      <td>No Deposit</td>\n",
       "      <td>9.0</td>\n",
       "      <td>0</td>\n",
       "      <td>Transient</td>\n",
       "      <td>76.5</td>\n",
       "      <td>0</td>\n",
       "      <td>1</td>\n",
       "      <td>Canceled</td>\n",
       "      <td>2015-04-02</td>\n",
       "      <td>2015-07-02</td>\n",
       "    </tr>\n",
       "  </tbody>\n",
       "</table>\n",
       "</div>"
      ],
      "text/plain": [
       "   Unnamed: 0       hotel  is_canceled  lead_time  arrival_date_week_number  \\\n",
       "0       40060  City Hotel            0          6                        27   \n",
       "1       40061  City Hotel            1         88                        27   \n",
       "2       40062  City Hotel            1         65                        27   \n",
       "3       40063  City Hotel            1         92                        27   \n",
       "4       40064  City Hotel            1        100                        27   \n",
       "\n",
       "   stays_in_weekend_nights  stays_in_week_nights  adults  children  babies  \\\n",
       "0                        0                     2       1       0.0       0   \n",
       "1                        0                     4       2       0.0       0   \n",
       "2                        0                     4       1       0.0       0   \n",
       "3                        2                     4       2       0.0       0   \n",
       "4                        0                     2       2       0.0       0   \n",
       "\n",
       "  meal country market_segment distribution_channel  is_repeated_guest  \\\n",
       "0   HB     PRT  Offline TA/TO                TA/TO                  0   \n",
       "1   BB     PRT      Online TA                TA/TO                  0   \n",
       "2   BB     PRT      Online TA                TA/TO                  0   \n",
       "3   BB     PRT      Online TA                TA/TO                  0   \n",
       "4   BB     PRT      Online TA                TA/TO                  0   \n",
       "\n",
       "   previous_cancellations  previous_bookings_not_canceled reserved_room_type  \\\n",
       "0                       0                               0                  A   \n",
       "1                       0                               0                  A   \n",
       "2                       0                               0                  A   \n",
       "3                       0                               0                  A   \n",
       "4                       0                               0                  A   \n",
       "\n",
       "  assigned_room_type  booking_changes deposit_type  agent  \\\n",
       "0                  A                0   No Deposit    6.0   \n",
       "1                  A                0   No Deposit    9.0   \n",
       "2                  A                0   No Deposit    9.0   \n",
       "3                  A                0   No Deposit    9.0   \n",
       "4                  A                0   No Deposit    9.0   \n",
       "\n",
       "   days_in_waiting_list customer_type   adr  required_car_parking_spaces  \\\n",
       "0                     0     Transient   0.0                            0   \n",
       "1                     0     Transient  76.5                            0   \n",
       "2                     0     Transient  68.0                            0   \n",
       "3                     0     Transient  76.5                            0   \n",
       "4                     0     Transient  76.5                            0   \n",
       "\n",
       "   total_of_special_requests reservation_status reservation_status_date  \\\n",
       "0                          0          Check-Out              2015-07-03   \n",
       "1                          1           Canceled              2015-07-01   \n",
       "2                          1           Canceled              2015-04-30   \n",
       "3                          2           Canceled              2015-06-23   \n",
       "4                          1           Canceled              2015-04-02   \n",
       "\n",
       "         Date  \n",
       "0  2015-07-01  \n",
       "1  2015-07-01  \n",
       "2  2015-07-01  \n",
       "3  2015-07-01  \n",
       "4  2015-07-02  "
      ]
     },
     "execution_count": 66,
     "metadata": {},
     "output_type": "execute_result"
    }
   ],
   "source": [
    "hotels_data_v2.head()"
   ]
  },
  {
   "cell_type": "code",
   "execution_count": 67,
   "metadata": {},
   "outputs": [],
   "source": [
    "hotels_data_v2['Date']=pd.to_datetime(hotels_data_v2['Date'])\n",
    "hotels_data_v2['reservation_status_date']=pd.to_datetime(hotels_data_v2['reservation_status_date'])"
   ]
  },
  {
   "cell_type": "code",
   "execution_count": 68,
   "metadata": {},
   "outputs": [
    {
     "data": {
      "text/plain": [
       "Unnamed: 0                        0\n",
       "hotel                             0\n",
       "is_canceled                       0\n",
       "lead_time                         0\n",
       "arrival_date_week_number          0\n",
       "stays_in_weekend_nights           0\n",
       "stays_in_week_nights              0\n",
       "adults                            0\n",
       "children                          0\n",
       "babies                            0\n",
       "meal                              0\n",
       "country                           0\n",
       "market_segment                    0\n",
       "distribution_channel              0\n",
       "is_repeated_guest                 0\n",
       "previous_cancellations            0\n",
       "previous_bookings_not_canceled    0\n",
       "reserved_room_type                0\n",
       "assigned_room_type                0\n",
       "booking_changes                   0\n",
       "deposit_type                      0\n",
       "agent                             0\n",
       "days_in_waiting_list              0\n",
       "customer_type                     0\n",
       "adr                               0\n",
       "required_car_parking_spaces       0\n",
       "total_of_special_requests         0\n",
       "reservation_status                0\n",
       "reservation_status_date           0\n",
       "Date                              0\n",
       "dtype: int64"
      ]
     },
     "execution_count": 68,
     "metadata": {},
     "output_type": "execute_result"
    }
   ],
   "source": [
    "# Just double checking if there are any null values\n",
    "\n",
    "hotels_data_v2.isnull().sum()"
   ]
  },
  {
   "cell_type": "markdown",
   "metadata": {},
   "source": [
    "<h3> I think there is no use of arrival date week number. So I am dropping the whole column and I am separating the date column to month, week and Year"
   ]
  },
  {
   "cell_type": "code",
   "execution_count": 69,
   "metadata": {},
   "outputs": [],
   "source": [
    "hotels_data_v2.drop('arrival_date_week_number',axis=1,inplace=True)"
   ]
  },
  {
   "cell_type": "code",
   "execution_count": 70,
   "metadata": {},
   "outputs": [
    {
     "data": {
      "text/plain": [
       "(119366, 29)"
      ]
     },
     "execution_count": 70,
     "metadata": {},
     "output_type": "execute_result"
    }
   ],
   "source": [
    "len(hotels_data_v2['Unnamed: 0'].unique())\n",
    "hotels_data_v2.shape"
   ]
  },
  {
   "cell_type": "markdown",
   "metadata": {},
   "source": [
    "<h4> Sice Un named column is also just the unique Id. We can remove it as well."
   ]
  },
  {
   "cell_type": "code",
   "execution_count": 71,
   "metadata": {},
   "outputs": [],
   "source": [
    "hotels_data_v2.drop('Unnamed: 0',axis=1,inplace=True)"
   ]
  },
  {
   "cell_type": "code",
   "execution_count": 72,
   "metadata": {},
   "outputs": [
    {
     "name": "stdout",
     "output_type": "stream",
     "text": [
      "<class 'pandas.core.frame.DataFrame'>\n",
      "RangeIndex: 119366 entries, 0 to 119365\n",
      "Data columns (total 28 columns):\n",
      " #   Column                          Non-Null Count   Dtype         \n",
      "---  ------                          --------------   -----         \n",
      " 0   hotel                           119366 non-null  object        \n",
      " 1   is_canceled                     119366 non-null  int64         \n",
      " 2   lead_time                       119366 non-null  int64         \n",
      " 3   stays_in_weekend_nights         119366 non-null  int64         \n",
      " 4   stays_in_week_nights            119366 non-null  int64         \n",
      " 5   adults                          119366 non-null  int64         \n",
      " 6   children                        119366 non-null  float64       \n",
      " 7   babies                          119366 non-null  int64         \n",
      " 8   meal                            119366 non-null  object        \n",
      " 9   country                         119366 non-null  object        \n",
      " 10  market_segment                  119366 non-null  object        \n",
      " 11  distribution_channel            119366 non-null  object        \n",
      " 12  is_repeated_guest               119366 non-null  int64         \n",
      " 13  previous_cancellations          119366 non-null  int64         \n",
      " 14  previous_bookings_not_canceled  119366 non-null  int64         \n",
      " 15  reserved_room_type              119366 non-null  object        \n",
      " 16  assigned_room_type              119366 non-null  object        \n",
      " 17  booking_changes                 119366 non-null  int64         \n",
      " 18  deposit_type                    119366 non-null  object        \n",
      " 19  agent                           119366 non-null  float64       \n",
      " 20  days_in_waiting_list            119366 non-null  int64         \n",
      " 21  customer_type                   119366 non-null  object        \n",
      " 22  adr                             119366 non-null  float64       \n",
      " 23  required_car_parking_spaces     119366 non-null  int64         \n",
      " 24  total_of_special_requests       119366 non-null  int64         \n",
      " 25  reservation_status              119366 non-null  object        \n",
      " 26  reservation_status_date         119366 non-null  datetime64[ns]\n",
      " 27  Date                            119366 non-null  datetime64[ns]\n",
      "dtypes: datetime64[ns](2), float64(3), int64(13), object(10)\n",
      "memory usage: 25.5+ MB\n"
     ]
    }
   ],
   "source": [
    "hotels_data_v2.info()"
   ]
  },
  {
   "cell_type": "markdown",
   "metadata": {},
   "source": [
    "<h3>I am checking if all the values in the column are values corresponding to that column or not. The above columns of meals are all Numeric so I\n",
    "don't think there is any issue is that. But in Categorical columns the values can be mistyped or put different names. So I checking them"
   ]
  },
  {
   "cell_type": "code",
   "execution_count": 73,
   "metadata": {},
   "outputs": [
    {
     "name": "stdout",
     "output_type": "stream",
     "text": [
      "------------------------------------------------\n"
     ]
    },
    {
     "data": {
      "text/plain": [
       "deposit_type\n",
       "No Deposit    104631\n",
       "Non Refund     14573\n",
       "Refundable       162\n",
       "Name: count, dtype: int64"
      ]
     },
     "execution_count": 73,
     "metadata": {},
     "output_type": "execute_result"
    }
   ],
   "source": [
    "hotels_data_v2['meal'].value_counts()\n",
    "print('------------------------------------------------')\n",
    "\n",
    "hotels_data_v2['deposit_type'].value_counts()"
   ]
  },
  {
   "cell_type": "code",
   "execution_count": 74,
   "metadata": {},
   "outputs": [],
   "source": [
    "# Separating Categorical columns with rest of the columns\n",
    "\n",
    "categorical_columns=[]\n",
    "numerical_columns=[]\n",
    "date_columns=[]\n",
    "\n",
    "for col in hotels_data_v2.columns:\n",
    "    if hotels_data_v2[col].dtype=='O':\n",
    "        categorical_columns.append(col)\n",
    "    else:\n",
    "        numerical_columns.append(col)"
   ]
  },
  {
   "cell_type": "code",
   "execution_count": 75,
   "metadata": {},
   "outputs": [
    {
     "data": {
      "text/plain": [
       "['hotel',\n",
       " 'meal',\n",
       " 'country',\n",
       " 'market_segment',\n",
       " 'distribution_channel',\n",
       " 'reserved_room_type',\n",
       " 'assigned_room_type',\n",
       " 'deposit_type',\n",
       " 'customer_type',\n",
       " 'reservation_status']"
      ]
     },
     "execution_count": 75,
     "metadata": {},
     "output_type": "execute_result"
    }
   ],
   "source": [
    "categorical_columns"
   ]
  },
  {
   "cell_type": "code",
   "execution_count": 76,
   "metadata": {},
   "outputs": [
    {
     "name": "stdout",
     "output_type": "stream",
     "text": [
      "hotel\n",
      "City Hotel      79306\n",
      "Resort Hotel    40060\n",
      "Name: count, dtype: int64\n",
      "------------------------------------------\n",
      "meal\n",
      "BB           92294\n",
      "HB           14463\n",
      "SC           10642\n",
      "Undefined     1169\n",
      "FB             798\n",
      "Name: count, dtype: int64\n",
      "------------------------------------------\n",
      "country\n",
      "PRT    49054\n",
      "GBR    12129\n",
      "FRA    10415\n",
      "ESP     8568\n",
      "DEU     7287\n",
      "ITA     3766\n",
      "IRL     3375\n",
      "BEL     2342\n",
      "BRA     2224\n",
      "NLD     2104\n",
      "USA     2097\n",
      "CHE     1730\n",
      "CN      1279\n",
      "AUT     1263\n",
      "SWE     1024\n",
      "CHN      999\n",
      "POL      919\n",
      "ISR      669\n",
      "RUS      632\n",
      "NOR      607\n",
      "ROU      500\n",
      "FIN      447\n",
      "DNK      435\n",
      "AUS      426\n",
      "AGO      362\n",
      "LUX      287\n",
      "MAR      259\n",
      "TUR      248\n",
      "HUN      230\n",
      "ARG      214\n",
      "JPN      197\n",
      "CZE      171\n",
      "IND      152\n",
      "KOR      133\n",
      "GRC      128\n",
      "DZA      103\n",
      "SRB      101\n",
      "HRV      100\n",
      "MEX       85\n",
      "EST       83\n",
      "IRN       83\n",
      "LTU       81\n",
      "ZAF       80\n",
      "BGR       75\n",
      "NZL       74\n",
      "COL       71\n",
      "UKR       68\n",
      "MOZ       67\n",
      "SVK       65\n",
      "CHL       65\n",
      "THA       59\n",
      "ISL       57\n",
      "SVN       57\n",
      "LVA       55\n",
      "ARE       51\n",
      "CYP       51\n",
      "TWN       51\n",
      "SAU       48\n",
      "PHL       40\n",
      "TUN       39\n",
      "SGP       39\n",
      "IDN       35\n",
      "NGA       34\n",
      "URY       32\n",
      "EGY       32\n",
      "LBN       31\n",
      "HKG       29\n",
      "PER       29\n",
      "MYS       28\n",
      "ECU       27\n",
      "BLR       26\n",
      "VEN       26\n",
      "CPV       24\n",
      "GEO       22\n",
      "JOR       21\n",
      "CRI       19\n",
      "KAZ       19\n",
      "MLT       18\n",
      "GIB       18\n",
      "OMN       18\n",
      "AZE       17\n",
      "MAC       16\n",
      "KWT       16\n",
      "QAT       15\n",
      "IRQ       14\n",
      "PAK       14\n",
      "DOM       14\n",
      "BIH       13\n",
      "BGD       12\n",
      "MDV       12\n",
      "PRI       12\n",
      "ALB       12\n",
      "SEN       11\n",
      "CMR       10\n",
      "MKD       10\n",
      "BOL       10\n",
      "PAN        9\n",
      "GNB        9\n",
      "TJK        9\n",
      "LBY        8\n",
      "CUB        8\n",
      "ARM        8\n",
      "JEY        8\n",
      "VNM        8\n",
      "AND        7\n",
      "LKA        7\n",
      "MUS        7\n",
      "JAM        6\n",
      "KEN        6\n",
      "CIV        6\n",
      "BHR        5\n",
      "MNE        5\n",
      "SUR        5\n",
      "CAF        5\n",
      "FRO        5\n",
      "TZA        5\n",
      "GAB        4\n",
      "UZB        4\n",
      "GTM        4\n",
      "GHA        4\n",
      "BRB        4\n",
      "PRY        4\n",
      "MCO        4\n",
      "ZWE        4\n",
      "SYR        3\n",
      "ETH        3\n",
      "GGY        3\n",
      "BEN        3\n",
      "TMP        3\n",
      "LIE        3\n",
      "ATA        2\n",
      "SYC        2\n",
      "MYT        2\n",
      "STP        2\n",
      "GLP        2\n",
      "SLV        2\n",
      "LAO        2\n",
      "ABW        2\n",
      "KHM        2\n",
      "ZMB        2\n",
      "COM        2\n",
      "TGO        2\n",
      "MWI        2\n",
      "RWA        2\n",
      "KNA        2\n",
      "IMN        2\n",
      "UGA        2\n",
      "SLE        1\n",
      "ATF        1\n",
      "FJI        1\n",
      "BWA        1\n",
      "SMR        1\n",
      "CYM        1\n",
      "KIR        1\n",
      "BDI        1\n",
      "PLW        1\n",
      "MDG        1\n",
      "NPL        1\n",
      "BHS        1\n",
      "SDN        1\n",
      "UMI        1\n",
      "NCL        1\n",
      "HND        1\n",
      "MRT        1\n",
      "ASM        1\n",
      "LCA        1\n",
      "GUY        1\n",
      "PYF        1\n",
      "DMA        1\n",
      "AIA        1\n",
      "VGB        1\n",
      "NAM        1\n",
      "MLI        1\n",
      "BFA        1\n",
      "MMR        1\n",
      "NIC        1\n",
      "DJI        1\n",
      "Name: count, dtype: int64\n",
      "------------------------------------------\n",
      "market_segment\n",
      "Online TA        56477\n",
      "Offline TA/TO    24205\n",
      "Groups           19810\n",
      "Direct           12605\n",
      "Corporate         5294\n",
      "Complementary      736\n",
      "Aviation           237\n",
      "Undefined            2\n",
      "Name: count, dtype: int64\n",
      "------------------------------------------\n",
      "distribution_channel\n",
      "TA/TO        97855\n",
      "Direct       14643\n",
      "Corporate     6670\n",
      "GDS            193\n",
      "Undefined        5\n",
      "Name: count, dtype: int64\n",
      "------------------------------------------\n",
      "reserved_room_type\n",
      "A    85978\n",
      "D    19201\n",
      "E     6535\n",
      "F     2897\n",
      "G     2094\n",
      "B     1118\n",
      "C      932\n",
      "H      601\n",
      "L        6\n",
      "P        4\n",
      "Name: count, dtype: int64\n",
      "------------------------------------------\n",
      "assigned_room_type\n",
      "A    74037\n",
      "D    25322\n",
      "E     7806\n",
      "F     3751\n",
      "G     2553\n",
      "C     2375\n",
      "B     2163\n",
      "H      712\n",
      "I      363\n",
      "K      279\n",
      "P        4\n",
      "L        1\n",
      "Name: count, dtype: int64\n",
      "------------------------------------------\n",
      "deposit_type\n",
      "No Deposit    104631\n",
      "Non Refund     14573\n",
      "Refundable       162\n",
      "Name: count, dtype: int64\n",
      "------------------------------------------\n",
      "customer_type\n",
      "Transient          89591\n",
      "Transient-Party    25123\n",
      "Contract            4076\n",
      "Group                576\n",
      "Name: count, dtype: int64\n",
      "------------------------------------------\n",
      "reservation_status\n",
      "Check-Out    75164\n",
      "Canceled     42995\n",
      "No-Show       1207\n",
      "Name: count, dtype: int64\n",
      "------------------------------------------\n"
     ]
    }
   ],
   "source": [
    "## Now I will run all the categorical columns in a loop and see what values does each column consist of\n",
    "\n",
    "for col in categorical_columns:\n",
    "   print(hotels_data_v2[col].value_counts())\n",
    "   print('------------------------------------------')"
   ]
  },
  {
   "cell_type": "markdown",
   "metadata": {},
   "source": [
    "<h3> In columns Meal, market_segment and distribution_channel  have undefined values. But since in except meal the remaining columns have \n",
    "very few undefined values. I am gooing to drop those rows"
   ]
  },
  {
   "cell_type": "code",
   "execution_count": 78,
   "metadata": {},
   "outputs": [],
   "source": [
    "hotels_data_v2.drop(hotels_data_v2[hotels_data_v2['market_segment']=='Undefined'].index,axis=0,inplace=True)"
   ]
  },
  {
   "cell_type": "code",
   "execution_count": 79,
   "metadata": {},
   "outputs": [
    {
     "data": {
      "text/html": [
       "<div>\n",
       "<style scoped>\n",
       "    .dataframe tbody tr th:only-of-type {\n",
       "        vertical-align: middle;\n",
       "    }\n",
       "\n",
       "    .dataframe tbody tr th {\n",
       "        vertical-align: top;\n",
       "    }\n",
       "\n",
       "    .dataframe thead th {\n",
       "        text-align: right;\n",
       "    }\n",
       "</style>\n",
       "<table border=\"1\" class=\"dataframe\">\n",
       "  <thead>\n",
       "    <tr style=\"text-align: right;\">\n",
       "      <th></th>\n",
       "      <th>hotel</th>\n",
       "      <th>is_canceled</th>\n",
       "      <th>lead_time</th>\n",
       "      <th>stays_in_weekend_nights</th>\n",
       "      <th>stays_in_week_nights</th>\n",
       "      <th>adults</th>\n",
       "      <th>children</th>\n",
       "      <th>babies</th>\n",
       "      <th>meal</th>\n",
       "      <th>country</th>\n",
       "      <th>market_segment</th>\n",
       "      <th>distribution_channel</th>\n",
       "      <th>is_repeated_guest</th>\n",
       "      <th>previous_cancellations</th>\n",
       "      <th>previous_bookings_not_canceled</th>\n",
       "      <th>reserved_room_type</th>\n",
       "      <th>assigned_room_type</th>\n",
       "      <th>booking_changes</th>\n",
       "      <th>deposit_type</th>\n",
       "      <th>agent</th>\n",
       "      <th>days_in_waiting_list</th>\n",
       "      <th>customer_type</th>\n",
       "      <th>adr</th>\n",
       "      <th>required_car_parking_spaces</th>\n",
       "      <th>total_of_special_requests</th>\n",
       "      <th>reservation_status</th>\n",
       "      <th>reservation_status_date</th>\n",
       "      <th>Date</th>\n",
       "    </tr>\n",
       "  </thead>\n",
       "  <tbody>\n",
       "  </tbody>\n",
       "</table>\n",
       "</div>"
      ],
      "text/plain": [
       "Empty DataFrame\n",
       "Columns: [hotel, is_canceled, lead_time, stays_in_weekend_nights, stays_in_week_nights, adults, children, babies, meal, country, market_segment, distribution_channel, is_repeated_guest, previous_cancellations, previous_bookings_not_canceled, reserved_room_type, assigned_room_type, booking_changes, deposit_type, agent, days_in_waiting_list, customer_type, adr, required_car_parking_spaces, total_of_special_requests, reservation_status, reservation_status_date, Date]\n",
       "Index: []"
      ]
     },
     "execution_count": 79,
     "metadata": {},
     "output_type": "execute_result"
    }
   ],
   "source": [
    "hotels_data_v2[hotels_data_v2['market_segment']=='Undefined']"
   ]
  },
  {
   "cell_type": "code",
   "execution_count": 80,
   "metadata": {},
   "outputs": [],
   "source": [
    "hotels_data_v2.drop(hotels_data_v2[hotels_data_v2['distribution_channel']=='Undefined'].index,axis=0,inplace=True)"
   ]
  },
  {
   "cell_type": "markdown",
   "metadata": {},
   "source": [
    "<h4>Now I am going to deal with meals column"
   ]
  },
  {
   "cell_type": "code",
   "execution_count": 87,
   "metadata": {},
   "outputs": [
    {
     "name": "stdout",
     "output_type": "stream",
     "text": [
      "meal\n",
      "BB           92290\n",
      "HB           14462\n",
      "SC           10642\n",
      "Undefined     1169\n",
      "FB             798\n",
      "Name: count, dtype: int64\n"
     ]
    },
    {
     "data": {
      "text/plain": [
       "<Axes: xlabel='count', ylabel='meal'>"
      ]
     },
     "execution_count": 87,
     "metadata": {},
     "output_type": "execute_result"
    },
    {
     "data": {
      "image/png": "[encoded data removed]",
      "text/plain": [
       "<Figure size 640x480 with 1 Axes>"
      ]
     },
     "metadata": {},
     "output_type": "display_data"
    }
   ],
   "source": [
    "print(hotels_data_v2['meal'].value_counts())\n",
    "sns.countplot(hotels_data_v2['meal'])"
   ]
  },
  {
   "cell_type": "markdown",
   "metadata": {},
   "source": [
    "<h3>It is a categorical variable. So we will have to fill it with mode. But Instead of doind that I am going to fill it with random values\n",
    "of HB:BB:SC in 1:9:1 ratio."
   ]
  },
  {
   "cell_type": "code",
   "execution_count": 88,
   "metadata": {},
   "outputs": [],
   "source": [
    "replacement_list = ['HB', 'BB', 'SC']\n",
    "replacement_ratio = [1, 9, 1]\n",
    "replacement_probabilities = [r / sum(replacement_ratio) for r in replacement_ratio]\n",
    "\n",
    "# Replace 'Undefined' with random choices based on the ratio\n",
    "hotels_data_v2['meal'] = hotels_data_v2['meal'].apply(\n",
    "    lambda x: np.random.choice(replacement_list, p=replacement_probabilities) if x == 'Undefined' else x\n",
    ")"
   ]
  },
  {
   "cell_type": "code",
   "execution_count": 90,
   "metadata": {},
   "outputs": [
    {
     "name": "stdout",
     "output_type": "stream",
     "text": [
      "meal\n",
      "BB    93241\n",
      "HB    14567\n",
      "SC    10755\n",
      "FB      798\n",
      "Name: count, dtype: int64\n"
     ]
    },
    {
     "data": {
      "text/plain": [
       "<Axes: xlabel='count', ylabel='meal'>"
      ]
     },
     "execution_count": 90,
     "metadata": {},
     "output_type": "execute_result"
    },
    {
     "data": {
      "image/png": "[encoded data removed]",
      "text/plain": [
       "<Figure size 640x480 with 1 Axes>"
      ]
     },
     "metadata": {},
     "output_type": "display_data"
    }
   ],
   "source": [
    "print(hotels_data_v2['meal'].value_counts())\n",
    "sns.countplot(hotels_data_v2['meal'])"
   ]
  },
  {
   "cell_type": "markdown",
   "metadata": {},
   "source": [
    "Here we can see that the data shape hasn't changed. So we are good"
   ]
  },
  {
   "cell_type": "code",
   "execution_count": null,
   "metadata": {},
   "outputs": [],
   "source": []
  }
 ],
 "metadata": {
  "kernelspec": {
   "display_name": "Python 3",
   "language": "python",
   "name": "python3"
  },
  "language_info": {
   "codemirror_mode": {
    "name": "ipython",
    "version": 3
   },
   "file_extension": ".py",
   "mimetype": "text/x-python",
   "name": "python",
   "nbconvert_exporter": "python",
   "pygments_lexer": "ipython3",
   "version": "3.12.0"
  }
 },
 "nbformat": 4,
 "nbformat_minor": 2
}
